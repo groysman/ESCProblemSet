{
 "metadata": {
  "name": ""
 },
 "nbformat": 3,
 "nbformat_minor": 0,
 "worksheets": [
  {
   "cells": [
    {
     "cell_type": "heading",
     "level": 1,
     "metadata": {},
     "source": [
      "Bay Sensors Problem Set"
     ]
    },
    {
     "cell_type": "raw",
     "metadata": {},
     "source": [
      "Problem:\n",
      "Count how many customers go to each location on each day. On the second day how many customers are repeating customers? How many customers from one store also shopped at the other store? Finally how accurate do you think your results are?"
     ]
    },
    {
     "cell_type": "code",
     "collapsed": false,
     "input": [
      "from glob import glob\n",
      "from zipfile import ZipFile\n",
      "import pandas as pd\n",
      "import numpy as np\n",
      "from StringIO import StringIO\n",
      "import time\n",
      "from datetime import datetime"
     ],
     "language": "python",
     "metadata": {},
     "outputs": [],
     "prompt_number": 2
    },
    {
     "cell_type": "raw",
     "metadata": {},
     "source": [
      "The dataset is in 6 zipped files, covering 2 locations during 3 days.  I am going to store contents of each file in a pandas data frame.  Let's initialize a list of 6 empty data frames."
     ]
    },
    {
     "cell_type": "code",
     "collapsed": false,
     "input": [
      "nfiles = len(glob('*.zip'))\n",
      "dflist = [None] * nfiles\n",
      "for i in range(nfiles):\n",
      "    dflist[i] = pd.DataFrame()"
     ],
     "language": "python",
     "metadata": {},
     "outputs": [],
     "prompt_number": 4
    },
    {
     "cell_type": "raw",
     "metadata": {},
     "source": [
      "We'll loop over each datafile, adding contents from each zipped file to a pandas data frame, using pandas.read_csv() function."
     ]
    },
    {
     "cell_type": "code",
     "collapsed": false,
     "input": [
      "i = 0\n",
      "for zipname in sorted(glob('*.zip')):\n",
      "    print zipname\n",
      "    zf = ZipFile(zipname, 'r')\n",
      "    for filename in sorted(zf.namelist()):\n",
      "        try:\n",
      "            content = zf.read(filename)  # this reads from 1 of files inside a zip file to a string\n",
      "            df = pd.read_csv(StringIO(content), header=None)  # StringIO(string) emulates a file\n",
      "        except:\n",
      "            print 'ERROR: could not read from %s; skipping it' % filename\n",
      "            continue\n",
      "        dflist[i] = pd.concat([dflist[i], df], ignore_index=True)\n",
      "    i += 1"
     ],
     "language": "python",
     "metadata": {},
     "outputs": [
      {
       "output_type": "stream",
       "stream": "stdout",
       "text": [
        "1000002-09-01-2013.zip\n",
        "ERROR: could not read from wifi-mac-2013-09-01-15-00-49.MAC3; skipping it"
       ]
      },
      {
       "output_type": "stream",
       "stream": "stdout",
       "text": [
        "\n",
        "1000002-09-03-2013.zip"
       ]
      },
      {
       "output_type": "stream",
       "stream": "stdout",
       "text": [
        "\n",
        "ERROR: could not read from wifi-mac-2013-09-03-11-00-30.MAC3; skipping it"
       ]
      },
      {
       "output_type": "stream",
       "stream": "stdout",
       "text": [
        "\n",
        "ERROR: could not read from wifi-mac-2013-09-03-12-00-42.MAC3; skipping it"
       ]
      },
      {
       "output_type": "stream",
       "stream": "stdout",
       "text": [
        "\n",
        "ERROR: could not read from wifi-mac-2013-09-03-17-30-31.MAC3; skipping it"
       ]
      },
      {
       "output_type": "stream",
       "stream": "stdout",
       "text": [
        "\n",
        "ERROR: could not read from wifi-mac-2013-09-03-17-45-34.MAC3; skipping it"
       ]
      },
      {
       "output_type": "stream",
       "stream": "stdout",
       "text": [
        "\n",
        "1000002-09-04-2013.zip"
       ]
      },
      {
       "output_type": "stream",
       "stream": "stdout",
       "text": [
        "\n",
        "1000047-09-01-2013.zip"
       ]
      },
      {
       "output_type": "stream",
       "stream": "stdout",
       "text": [
        "\n",
        "1000047-09-03-2013.zip"
       ]
      },
      {
       "output_type": "stream",
       "stream": "stdout",
       "text": [
        "\n",
        "1000047-09-04-2013.zip"
       ]
      },
      {
       "output_type": "stream",
       "stream": "stdout",
       "text": [
        "\n"
       ]
      }
     ],
     "prompt_number": 5
    },
    {
     "cell_type": "raw",
     "metadata": {},
     "source": [
      "We now have all data in an array of 6 dataframes, dflist[0:3] for the 1st store, and dflist[3:6] for the 2nd store.\n",
      "A few files, representing about 2% of the data, failed the read_csv() method.  To save time, let's skip them and move on for now.  Let's look at a few lines of the first data frame."
     ]
    },
    {
     "cell_type": "code",
     "collapsed": false,
     "input": [
      "print dflist[0].head()"
     ],
     "language": "python",
     "metadata": {},
     "outputs": [
      {
       "output_type": "stream",
       "stream": "stdout",
       "text": [
        "            X.1  X.2  X.3                X.4                X.5                X.6  X.7            X.8\n",
        "0  1.378019e+09    0    8  74:44:01:22:a5:42  ff:ff:ff:ff:ff:ff  74:44:01:22:a5:42  -77  Tandoori Oven\n",
        "1  1.378019e+09    0    8  00:1e:13:02:a9:00  ff:ff:ff:ff:ff:ff  00:1e:13:02:a9:00  -85        attwifi\n",
        "2  1.378019e+09    0    8  74:44:01:22:a5:42  ff:ff:ff:ff:ff:ff  74:44:01:22:a5:42  -77  Tandoori Oven\n",
        "3  1.378019e+09    0    8  00:1e:13:02:a9:00  ff:ff:ff:ff:ff:ff  00:1e:13:02:a9:00  -87        attwifi\n",
        "4  1.378019e+09    0    8  74:44:01:22:a5:42  ff:ff:ff:ff:ff:ff  74:44:01:22:a5:42  -75  Tandoori Oven\n"
       ]
      }
     ],
     "prompt_number": 6
    },
    {
     "cell_type": "raw",
     "metadata": {},
     "source": [
      "Since no header was specified, the columns are names X.1 through X.8.  We will use only the epoch time (X.1) and source MAC address (X.4) for this analysis.  Let's rename them properly."
     ]
    },
    {
     "cell_type": "code",
     "collapsed": false,
     "input": [
      "for i in range(len(dflist)):\n",
      "    dflist[i] = dflist[i].rename(columns={'X.1':'Time', 'X.4':'MAC'}, copy=False)\n",
      "print dflist[0].head()"
     ],
     "language": "python",
     "metadata": {},
     "outputs": [
      {
       "output_type": "stream",
       "stream": "stdout",
       "text": [
        "           Time  X.2  X.3                MAC                X.5                X.6  X.7            X.8\n",
        "0  1.378019e+09    0    8  74:44:01:22:a5:42  ff:ff:ff:ff:ff:ff  74:44:01:22:a5:42  -77  Tandoori Oven\n",
        "1  1.378019e+09    0    8  00:1e:13:02:a9:00  ff:ff:ff:ff:ff:ff  00:1e:13:02:a9:00  -85        attwifi\n",
        "2  1.378019e+09    0    8  74:44:01:22:a5:42  ff:ff:ff:ff:ff:ff  74:44:01:22:a5:42  -77  Tandoori Oven\n",
        "3  1.378019e+09    0    8  00:1e:13:02:a9:00  ff:ff:ff:ff:ff:ff  00:1e:13:02:a9:00  -87        attwifi\n",
        "4  1.378019e+09    0    8  74:44:01:22:a5:42  ff:ff:ff:ff:ff:ff  74:44:01:22:a5:42  -75  Tandoori Oven\n"
       ]
      }
     ],
     "prompt_number": 7
    },
    {
     "cell_type": "raw",
     "metadata": {},
     "source": [
      "We can use Pandas groupby() function to split the data by source MAC address.  Let's first look\n",
      "at just the first stores on the first day."
     ]
    },
    {
     "cell_type": "code",
     "collapsed": false,
     "input": [
      "grouped = dflist[0].groupby('MAC')\n",
      "grouped.size()"
     ],
     "language": "python",
     "metadata": {},
     "outputs": [
      {
       "metadata": {},
       "output_type": "pyout",
       "prompt_number": 13,
       "text": [
        "MAC\n",
        "00:0f:13:38:11:bd     59370\n",
        "00:14:9a:e8:28:bf        10\n",
        "00:16:44:bc:8d:bd         3\n",
        "00:18:de:db:a0:43       125\n",
        "00:1b:9e:fb:d6:51        11\n",
        "00:1d:a2:f5:00:bc       273\n",
        "00:1e:13:02:a9:00    117794\n",
        "00:1e:13:02:a9:01     86594\n",
        "00:1e:65:29:0f:56         5\n",
        "00:20:00:b3:79:51         1\n",
        "00:21:00:ff:52:b4      1535\n",
        "00:21:6b:33:03:a0      1270\n",
        "00:23:32:5a:bf:5c       150\n",
        "00:24:01:13:39:03         3\n",
        "00:24:36:0d:c0:be       226\n",
        "...\n",
        "f4:1b:a1:d7:41:ed       2\n",
        "f4:f1:5a:1e:76:cc       7\n",
        "f4:f1:5a:a5:5b:bd       7\n",
        "f8:1e:df:46:61:d4       1\n",
        "f8:8f:ca:24:32:89       1\n",
        "f8:f1:b6:02:01:e2    4006\n",
        "f8:f1:b6:cd:e5:b7     550\n",
        "f8:f1:b6:ce:1c:52     506\n",
        "fc:25:3f:6b:dd:f3     731\n",
        "fc:25:3f:6e:13:9a      11\n",
        "fc:25:3f:7a:a5:dd     806\n",
        "fc:25:3f:80:f0:d8      16\n",
        "fc:c7:34:a9:f8:dd       1\n",
        "fc:c7:34:df:40:2a    1025\n",
        "fc:c7:34:f4:d1:4b       2\n",
        "Length: 869"
       ]
      }
     ],
     "prompt_number": 13
    },
    {
     "cell_type": "markdown",
     "metadata": {},
     "source": [
      "So we have 869 unique MAC addresses, but for some we find more than 100,000 packets over the course of the day.  These signals are not likely to come from customers' devices, but more likely to come from employees or stationary devices.  There are also devices with just 1 packet, and these are likely to be passersby rather than customers.\n",
      "\n",
      "Let's see if we can cleanly distinguish between customers and non-customers by looking at the histogram of the number of events per device.  "
     ]
    },
    {
     "cell_type": "code",
     "collapsed": false,
     "input": [
      "%pylab --no-import-all inline\n",
      "pylab.rcParams['figure.figsize'] = (12.0, 7.0) # make the plot area larger than default\n",
      "log10(grouped.size()).hist(bins=20)\n",
      "show()"
     ],
     "language": "python",
     "metadata": {},
     "outputs": [
      {
       "output_type": "stream",
       "stream": "stdout",
       "text": [
        "Populating the interactive namespace from numpy and matplotlib\n"
       ]
      },
      {
       "metadata": {},
       "output_type": "display_data",
       "png": "[encoded data removed]",
       "text": [
        "<matplotlib.figure.Figure at 0x541c190>"
       ]
      }
     ],
     "prompt_number": 25
    },
    {
     "cell_type": "raw",
     "metadata": {},
     "source": [
      "The number of events is shown on a log-10 scale.  The low end of the histogram must be coming\n",
      "from visiting customers, however it is not clear just where the cutoff is between customers and non-customers.\n",
      "\n",
      "Let's look at the times when connections are made to see if we can get insight.  Let's pick a\n",
      "couple of MAC addresses, and look at the times when they were connected.\n",
      "00:21:6b:33:03:a0     1270\n",
      "f8:f1:b6:02:01:e2     4006\n",
      "00:0f:13:38:11:bd     59370"
     ]
    },
    {
     "cell_type": "code",
     "collapsed": false,
     "input": [
      "timetohour = lambda t: time.localtime(t)[3] + time.localtime(t)[4]/60.\n",
      "pylab.rcParams['figure.figsize'] = (12.0, 5.0)\n",
      "subplot(1,3,1)\n",
      "dflist[0][dflist[0]['MAC']=='00:21:00:ff:52:b4']['Time'].map(timetohour).hist(bins=20)\n",
      "subplot(1,3,2)\n",
      "dflist[0][dflist[0]['MAC']=='f8:f1:b6:02:01:e2']['Time'].map(timetohour).hist(bins=20)\n",
      "subplot(1,3,3)\n",
      "dflist[0][dflist[0]['MAC']=='00:0f:13:38:11:bd']['Time'].map(timetohour).hist(bins=20)"
     ],
     "language": "python",
     "metadata": {},
     "outputs": [
      {
       "metadata": {},
       "output_type": "pyout",
       "prompt_number": 27,
       "text": [
        "<matplotlib.axes.AxesSubplot at 0x640e990>"
       ]
      },
      {
       "metadata": {},
       "output_type": "display_data",
       "png": "[encoded data removed]",
       "text": [
        "<matplotlib.figure.Figure at 0x7684210>"
       ]
      }
     ],
     "prompt_number": 27
    },
    {
     "cell_type": "raw",
     "metadata": {},
     "source": [
      "The first device was connected for ~2 hours, the second device was very active, but only for 10 minutes, while the third device wasconnecting for most of the day.  It pretty clear that the first 2 are visitors, while the last one is not.\n",
      "\n",
      "Let's look at how long each device was near a store.  We can iterate over pandas grouped data.\n",
      "np.ptp() gives the difference between max() and min() of an array."
     ]
    },
    {
     "cell_type": "code",
     "collapsed": false,
     "input": [
      "timespan = [np.ptp(np.array(group['Time']))/3600. for name, group in grouped]\n",
      "timespan[:5]\n",
      "subplot(1,2,1)\n",
      "hist(timespan, bins=np.arange(0,24,0.5))\n",
      "subplot(1,2,2)\n",
      "hist(timespan, bins=np.arange(2,24,0.5))\n",
      "show()"
     ],
     "language": "python",
     "metadata": {},
     "outputs": [
      {
       "metadata": {},
       "output_type": "display_data",
       "png": "[encoded data removed]",
       "text": [
        "<matplotlib.figure.Figure at 0x3e5b390>"
       ]
      }
     ],
     "prompt_number": 28
    },
    {
     "cell_type": "raw",
     "metadata": {},
     "source": [
      "The plot on the right omits anyone who spent less than 2 hours near the store and thus very likely to be a customer or passerby.  The cutoff between employees and non-employees intuitively should be located around 3-4 hours spent near a store, although looking at just 1 day of data, there is no clear threshold.  With many days of recording, it should be very easy to identify employees.  With just 3 days of data, let's settle on a simple rule, we'll classify anyone who spent more than 8 hours over 3 days near the store as an employee and anyone who spent less than 1 minutes as a passerby."
     ]
    },
    {
     "cell_type": "raw",
     "metadata": {},
     "source": [
      "Now let's process all the data, and put it in a single summary data frame."
     ]
    },
    {
     "cell_type": "code",
     "collapsed": false,
     "input": [
      "df_combine = pd.DataFrame()\n",
      "for i in range(len(dflist)):\n",
      "    grouped = dflist[i].groupby('MAC')\n",
      "    timespan = [np.ptp(np.array(group['Time']))/3600. for name, group in grouped]\n",
      "    MAC_list = [name for name,group in grouped]\n",
      "    df_time = pd.DataFrame(timespan, columns=[str(i)], index=MAC_list)\n",
      "    df_combine = pd.concat([df_combine, df_time], axis=1)"
     ],
     "language": "python",
     "metadata": {},
     "outputs": [],
     "prompt_number": 39
    },
    {
     "cell_type": "code",
     "collapsed": false,
     "input": [
      "df_combine.head()"
     ],
     "language": "python",
     "metadata": {},
     "outputs": [
      {
       "metadata": {},
       "output_type": "pyout",
       "prompt_number": 40,
       "text": [
        "                    0         1         2          3          4          5\n",
        "00:00:00:00:00:00 NaN  0.006712       NaN        NaN   0.000001        NaN\n",
        "00:02:6f:48:20:10 NaN       NaN       NaN        NaN        NaN   0.000000\n",
        "00:03:7f:00:00:00 NaN  0.000014  0.000005        NaN        NaN        NaN\n",
        "00:08:74:37:5e:c0 NaN       NaN       NaN  23.969429  21.197042  17.373238\n",
        "00:09:ef:13:4b:68 NaN       NaN       NaN        NaN        NaN   0.000000"
       ]
      }
     ],
     "prompt_number": 40
    },
    {
     "cell_type": "code",
     "collapsed": false,
     "input": [
      "df_combine"
     ],
     "language": "python",
     "metadata": {},
     "outputs": [
      {
       "metadata": {},
       "output_type": "pyout",
       "prompt_number": 41,
       "text": [
        "<class 'pandas.core.frame.DataFrame'>\n",
        "Index: 4831 entries, 00:00:00:00:00:00 to fc:e5:57:39:e5:36\n",
        "Data columns:\n",
        "0    869  non-null values\n",
        "1    1583  non-null values\n",
        "2    1363  non-null values\n",
        "3    392  non-null values\n",
        "4    412  non-null values\n",
        "5    648  non-null values\n",
        "dtypes: float64(6)"
       ]
      }
     ],
     "prompt_number": 41
    },
    {
     "cell_type": "raw",
     "metadata": {},
     "source": [
      "The list above contains numbers of unique devices per day per store.\n",
      "Let's roughly classify the people by duration of device use."
     ]
    },
    {
     "cell_type": "code",
     "collapsed": false,
     "input": [
      "import math\n",
      "def classify(t):\n",
      "    if math.isnan(t):\n",
      "        return NaN\n",
      "    elif t>8.:\n",
      "        return 'Employee'\n",
      "    elif t<1/60.:\n",
      "        return 'Passerby'\n",
      "    else:\n",
      "        return 'Customer'\n",
      "df_combine['Store1_tag'] = df_combine[['0','1','2']].sum(axis=1).map(classify)\n",
      "df_combine['Store2_tag'] = df_combine[['3','4','5']].sum(axis=1).map(classify)"
     ],
     "language": "python",
     "metadata": {},
     "outputs": [],
     "prompt_number": 60
    },
    {
     "cell_type": "code",
     "collapsed": false,
     "input": [
      "df_combine.head()"
     ],
     "language": "python",
     "metadata": {},
     "outputs": [
      {
       "metadata": {},
       "output_type": "pyout",
       "prompt_number": 61,
       "text": [
        "                    0         1         2          3          4          5 Store1_tag Store2_tag\n",
        "00:00:00:00:00:00 NaN  0.006712       NaN        NaN   0.000001        NaN   Passerby   Passerby\n",
        "00:02:6f:48:20:10 NaN       NaN       NaN        NaN        NaN   0.000000        NaN   Passerby\n",
        "00:03:7f:00:00:00 NaN  0.000014  0.000005        NaN        NaN        NaN   Passerby        NaN\n",
        "00:08:74:37:5e:c0 NaN       NaN       NaN  23.969429  21.197042  17.373238        NaN   Employee\n",
        "00:09:ef:13:4b:68 NaN       NaN       NaN        NaN        NaN   0.000000        NaN   Passerby"
       ]
      }
     ],
     "prompt_number": 61
    },
    {
     "cell_type": "raw",
     "metadata": {},
     "source": [
      "Using this table, we can run the desired analytics."
     ]
    },
    {
     "cell_type": "code",
     "collapsed": false,
     "input": [
      "a = df_combine[df_combine['Store1_tag']=='Customer']\n",
      "a\n"
     ],
     "language": "python",
     "metadata": {},
     "outputs": [
      {
       "metadata": {},
       "output_type": "pyout",
       "prompt_number": 81,
       "text": [
        "<class 'pandas.core.frame.DataFrame'>\n",
        "Index: 2160 entries, 00:14:9a:e8:28:bf to fc:e5:57:39:e5:36\n",
        "Data columns:\n",
        "0             535  non-null values\n",
        "1             941  non-null values\n",
        "2             832  non-null values\n",
        "3             4  non-null values\n",
        "4             5  non-null values\n",
        "5             10  non-null values\n",
        "Store1_tag    2160  non-null values\n",
        "Store2_tag    17  non-null values\n",
        "dtypes: float64(6), object(2)"
       ]
      }
     ],
     "prompt_number": 81
    },
    {
     "cell_type": "raw",
     "metadata": {},
     "source": [
      "535 customers shopped in Store 1 on Day1; 941 on Day2; 832 on Day3\n",
      "17 customers from Store1 also shopped in Store2."
     ]
    },
    {
     "cell_type": "code",
     "collapsed": false,
     "input": [
      "a[a['Store2_tag'].notnull()]"
     ],
     "language": "python",
     "metadata": {},
     "outputs": [
      {
       "metadata": {},
       "output_type": "pyout",
       "prompt_number": 80,
       "text": [
        "                          0         1         2         3         4         5 Store1_tag Store2_tag\n",
        "00:60:b3:03:7d:49       NaN  0.675843       NaN       NaN       NaN  4.438846   Customer   Customer\n",
        "0c:77:1a:37:f8:e1       NaN  0.101481       NaN       NaN       NaN  0.780493   Customer   Customer\n",
        "10:9a:dd:11:d7:f7       NaN       NaN  0.604327       NaN       NaN  0.000000   Customer   Passerby\n",
        "18:af:61:68:0d:a7       NaN  0.088230       NaN       NaN       NaN  0.009724   Customer   Passerby\n",
        "20:c9:d0:75:3e:ec       NaN       NaN  0.543298  0.721636       NaN       NaN   Customer   Customer\n",
        "20:c9:d0:b3:02:6f       NaN  3.009056  0.000000       NaN  0.566468       NaN   Customer   Customer\n",
        "38:aa:3c:55:22:37       NaN       NaN  0.412159  0.701456       NaN       NaN   Customer   Customer\n",
        "3c:43:8e:5d:c8:ee       NaN  0.995338       NaN       NaN  0.000212  0.010911   Customer   Passerby\n",
        "44:d8:84:49:d0:e9       NaN  2.862876       NaN       NaN  1.007283  0.376102   Customer   Customer\n",
        "5c:59:48:65:05:57  0.023516       NaN       NaN  0.300968       NaN       NaN   Customer   Customer\n",
        "7c:c5:37:96:ab:35       NaN  0.198603       NaN       NaN  0.007821       NaN   Customer   Passerby\n",
        "90:18:7c:73:a6:ae  0.758217  3.219325  3.105058       NaN       NaN  5.099199   Customer   Customer\n",
        "90:18:7c:8f:0a:11  1.314077  2.135182       NaN       NaN  2.484293       NaN   Customer   Customer\n",
        "98:d6:f7:69:14:a6       NaN  1.093204       NaN       NaN       NaN  0.000001   Customer   Passerby\n",
        "c0:63:94:62:8f:cb       NaN  0.021578       NaN       NaN       NaN  0.640962   Customer   Customer\n",
        "cc:3a:61:21:2b:36       NaN  0.024648       NaN       NaN       NaN  0.000000   Customer   Passerby\n",
        "cc:55:ad:bd:9f:6b  5.347086       NaN       NaN  0.001187       NaN       NaN   Customer   Passerby"
       ]
      }
     ],
     "prompt_number": 80
    },
    {
     "cell_type": "raw",
     "metadata": {},
     "source": [
      "17 customers of Store 1 also visited Store 2; we classify 10 of them as customers of Store 2, and 7 as passersby."
     ]
    },
    {
     "cell_type": "code",
     "collapsed": false,
     "input": [
      "a[(a['0'].notnull()) & a['1'].notnull()] "
     ],
     "language": "python",
     "metadata": {},
     "outputs": [
      {
       "metadata": {},
       "output_type": "pyout",
       "prompt_number": 83,
       "text": [
        "                          0         1         2   3         4         5 Store1_tag Store2_tag\n",
        "04:46:65:30:a5:35  1.854007  0.001396       NaN NaN       NaN       NaN   Customer        NaN\n",
        "08:70:45:1b:46:3c  0.059582  0.081861       NaN NaN       NaN       NaN   Customer        NaN\n",
        "0c:71:5d:f5:0e:4a  0.270993  0.428169       NaN NaN       NaN       NaN   Customer        NaN\n",
        "0c:77:1a:97:d9:6f  6.088857  0.145471       NaN NaN       NaN       NaN   Customer        NaN\n",
        "1c:e6:2b:01:fc:25  2.689155  0.718031       NaN NaN       NaN       NaN   Customer        NaN\n",
        "24:ab:81:b3:91:92  0.040629  7.436599       NaN NaN       NaN       NaN   Customer        NaN\n",
        "34:c0:59:81:ca:6b  1.021924  0.027352       NaN NaN       NaN       NaN   Customer        NaN\n",
        "40:a6:d9:b3:be:57  0.131262  0.041146       NaN NaN       NaN       NaN   Customer        NaN\n",
        "40:b0:fa:c3:76:8a  1.779927  1.079352  0.296699 NaN       NaN       NaN   Customer        NaN\n",
        "40:b7:f3:5e:c5:60  0.234257  5.604670       NaN NaN       NaN       NaN   Customer        NaN\n",
        "4c:8d:79:b0:88:30  0.014279  0.486359  0.099977 NaN       NaN       NaN   Customer        NaN\n",
        "60:67:20:cd:d1:54  1.719729  0.988961       NaN NaN       NaN       NaN   Customer        NaN\n",
        "64:a3:cb:57:88:6b  0.000000  0.269622       NaN NaN       NaN       NaN   Customer        NaN\n",
        "78:a3:e4:03:ea:cb  0.006785  0.144701       NaN NaN       NaN       NaN   Customer        NaN\n",
        "7c:61:93:0a:03:aa  0.000000  0.545885       NaN NaN       NaN       NaN   Customer        NaN\n",
        "88:32:9b:02:23:f1  1.216432  2.468921       NaN NaN       NaN       NaN   Customer        NaN\n",
        "8c:58:77:85:9e:5a  0.003653  0.686436       NaN NaN       NaN       NaN   Customer        NaN\n",
        "90:18:7c:73:a6:ae  0.758217  3.219325  3.105058 NaN       NaN  5.099199   Customer   Customer\n",
        "90:18:7c:8f:0a:11  1.314077  2.135182       NaN NaN  2.484293       NaN   Customer   Customer\n",
        "90:72:40:9d:19:1f  1.318802  0.370798       NaN NaN       NaN       NaN   Customer        NaN\n",
        "98:d6:f7:86:10:f3  0.000010  0.028763       NaN NaN       NaN       NaN   Customer        NaN\n",
        "a8:fa:d8:d8:30:b8  0.000013  0.896230       NaN NaN       NaN       NaN   Customer        NaN\n",
        "b8:78:2e:dd:be:13  0.500007  1.355718  1.660412 NaN       NaN       NaN   Customer        NaN\n",
        "bc:92:6b:00:c9:fa  4.176821  3.355801       NaN NaN       NaN       NaN   Customer        NaN\n",
        "bc:92:6b:0a:ed:8f  0.264622  0.146036       NaN NaN       NaN       NaN   Customer        NaN\n",
        "c8:3d:97:e9:51:cc  1.593796  2.516385       NaN NaN       NaN       NaN   Customer        NaN\n",
        "cc:08:e0:7f:7f:4d  0.005748  0.036333       NaN NaN       NaN       NaN   Customer        NaN\n",
        "cc:3a:61:1b:3d:05  0.493231  0.000001       NaN NaN       NaN       NaN   Customer        NaN\n",
        "cc:3a:61:bd:1e:80  0.000000  3.742576       NaN NaN       NaN       NaN   Customer        NaN\n",
        "d0:23:db:ab:2e:4d  0.036097  0.001625       NaN NaN       NaN       NaN   Customer        NaN\n",
        "d8:9e:3f:c4:4e:29  0.000694  0.844771       NaN NaN       NaN       NaN   Customer        NaN\n",
        "d8:d1:cb:1f:4a:39  0.105114  0.001135       NaN NaN       NaN       NaN   Customer        NaN\n",
        "f0:cb:a1:46:81:9e  0.045210  0.729511       NaN NaN       NaN       NaN   Customer        NaN\n",
        "f0:dc:e2:13:7a:a6  0.091649  7.242283       NaN NaN       NaN       NaN   Customer        NaN\n",
        "f8:f1:b6:02:01:e2  0.158866  0.000000       NaN NaN       NaN       NaN   Customer        NaN\n",
        "fc:25:3f:7a:a5:dd  1.248307  0.007251       NaN NaN       NaN       NaN   Customer        NaN"
       ]
      }
     ],
     "prompt_number": 83
    },
    {
     "cell_type": "raw",
     "metadata": {},
     "source": [
      "This is the full list of 36 people that we classify as customers of Store 1 who visited on Day 1 and Day 2.  Looking at the list, it's likely that 4-5 out of them are actually employees that we misclassified as customers that just missed our rough 8-hour cutoff.  Further refinement of classification will solve this problem easily with data from more days.  Already we only likely misclassify a very small number of people."
     ]
    },
    {
     "cell_type": "code",
     "collapsed": false,
     "input": [
      "df_combine[df_combine['Store2_tag']=='Customer']"
     ],
     "language": "python",
     "metadata": {},
     "outputs": [
      {
       "metadata": {},
       "output_type": "pyout",
       "prompt_number": 63,
       "text": [
        "<class 'pandas.core.frame.DataFrame'>\n",
        "Index: 586 entries, 00:0b:6b:20:d6:bd to fc:c7:34:f5:bc:d3\n",
        "Data columns:\n",
        "0             4  non-null values\n",
        "1             8  non-null values\n",
        "2             4  non-null values\n",
        "3             194  non-null values\n",
        "4             146  non-null values\n",
        "5             288  non-null values\n",
        "Store1_tag    12  non-null values\n",
        "Store2_tag    586  non-null values\n",
        "dtypes: float64(6), object(2)"
       ]
      }
     ],
     "prompt_number": 63
    },
    {
     "cell_type": "raw",
     "metadata": {},
     "source": [
      "Finally, 194 customers shopped in Store 2 on Day1; 146 on Day2; 288 on Day3"
     ]
    }
   ],
   "metadata": {}
  }
 ]
}